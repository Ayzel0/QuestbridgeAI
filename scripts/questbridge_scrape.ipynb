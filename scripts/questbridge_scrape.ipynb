{
 "cells": [
  {
   "cell_type": "code",
   "execution_count": 5,
   "metadata": {},
   "outputs": [],
   "source": [
    "from selenium import webdriver\n",
    "from selenium.webdriver.common.by import By\n",
    "from selenium.webdriver.common.keys import Keys\n",
    "from selenium.webdriver.support import expected_conditions as EC\n",
    "from selenium.webdriver.support.wait import WebDriverWait\n",
    "\n",
    "import time\n",
    "import json\n",
    "import requests\n",
    "\n",
    "import pandas as pd"
   ]
  },
  {
   "cell_type": "code",
   "execution_count": 35,
   "metadata": {},
   "outputs": [],
   "source": [
    "COLLEGE_UL = '(//ul[@class=\"subsubCategoryItems\"])[5]'\n",
    "APP_REQS = '//a[text()=\"Application Requirements\"]'\n",
    "\n",
    "class QBScraper:\n",
    "    def __init__(self, url):\n",
    "        self.driver = None\n",
    "        self.url = url\n",
    "    \n",
    "    def create_driver(self):\n",
    "        self.driver = webdriver.Chrome()\n",
    "        self.driver.get(self.url)\n",
    "        self.driver.maximize_window()\n",
    "        self.wait = WebDriverWait(self.driver, 10)\n",
    "\n",
    "    def scrape_colleges(self):\n",
    "        college_ul = self.wait.until(EC.presence_of_element_located((By.XPATH, COLLEGE_UL)))\n",
    "        college_li_items = college_ul.find_elements(By.TAG_NAME, 'li')\n",
    "\n",
    "        # get links\n",
    "        links = []\n",
    "        for item in college_li_items:\n",
    "            # get link\n",
    "            link = item.find_element(By.TAG_NAME, 'a')\n",
    "            href = link.get_attribute('href')\n",
    "            links.append(href)\n",
    "        \n",
    "        print(links)\n",
    "        \n",
    "        for link in links:\n",
    "            self.driver.get(link)\n",
    "            self.find_application_requirements()\n",
    "            self.driver.back()\n",
    "    \n",
    "    def find_application_requirements(self):\n",
    "        application_reqs_tab = self.wait.until(EC.presence_of_element_located((By.XPATH, APP_REQS)))\n",
    "        application_reqs_tab.click()\n",
    "        self.driver.back()"
   ]
  },
  {
   "cell_type": "code",
   "execution_count": 34,
   "metadata": {},
   "outputs": [
    {
     "name": "stdout",
     "output_type": "stream",
     "text": [
      "['https://www.questbridge.org/college-partners/amherst-college', 'https://www.questbridge.org/college-partners/barnard-college', 'https://www.questbridge.org/college-partners/boston-college', 'https://www.questbridge.org/college-partners/boston-university', 'https://www.questbridge.org/college-partners/bowdoin-college', 'https://www.questbridge.org/college-partners/brown-university', 'https://www.questbridge.org/college-partners/california-institute-of-technology', 'https://www.questbridge.org/college-partners/carleton-college', 'https://www.questbridge.org/college-partners/case-western-reserve-university', 'https://www.questbridge.org/college-partners/claremont-mckenna-college', 'https://www.questbridge.org/college-partners/colby-college', 'https://www.questbridge.org/college-partners/colgate-university', 'https://www.questbridge.org/college-partners/college-of-the-holy-cross']\n"
     ]
    },
    {
     "ename": "NoSuchWindowException",
     "evalue": "Message: no such window: target window already closed\nfrom unknown error: web view not found\n  (Session info: chrome=120.0.6099.225)\nStacktrace:\n\tGetHandleVerifier [0x00007FF754902142+3514994]\n\t(No symbol) [0x00007FF754520CE2]\n\t(No symbol) [0x00007FF7543C76AA]\n\t(No symbol) [0x00007FF7543A0AFD]\n\t(No symbol) [0x00007FF75443CB1B]\n\t(No symbol) [0x00007FF75445218F]\n\t(No symbol) [0x00007FF754435D93]\n\t(No symbol) [0x00007FF754404BDC]\n\t(No symbol) [0x00007FF754405C64]\n\tGetHandleVerifier [0x00007FF75492E16B+3695259]\n\tGetHandleVerifier [0x00007FF754986737+4057191]\n\tGetHandleVerifier [0x00007FF75497E4E3+4023827]\n\tGetHandleVerifier [0x00007FF7546504F9+689705]\n\t(No symbol) [0x00007FF75452C048]\n\t(No symbol) [0x00007FF754528044]\n\t(No symbol) [0x00007FF7545281C9]\n\t(No symbol) [0x00007FF7545188C4]\n\tBaseThreadInitThunk [0x00007FF955A0257D+29]\n\tRtlUserThreadStart [0x00007FF95684AA58+40]\n",
     "output_type": "error",
     "traceback": [
      "\u001b[1;31m---------------------------------------------------------------------------\u001b[0m",
      "\u001b[1;31mNoSuchWindowException\u001b[0m                     Traceback (most recent call last)",
      "Cell \u001b[1;32mIn[34], line 3\u001b[0m\n\u001b[0;32m      1\u001b[0m scraper \u001b[38;5;241m=\u001b[39m QBScraper(\u001b[38;5;124m'\u001b[39m\u001b[38;5;124mhttps://www.questbridge.org/college-partners\u001b[39m\u001b[38;5;124m'\u001b[39m)\n\u001b[0;32m      2\u001b[0m scraper\u001b[38;5;241m.\u001b[39mcreate_driver()\n\u001b[1;32m----> 3\u001b[0m \u001b[43mscraper\u001b[49m\u001b[38;5;241;43m.\u001b[39;49m\u001b[43mscrape_colleges\u001b[49m\u001b[43m(\u001b[49m\u001b[43m)\u001b[49m\n",
      "Cell \u001b[1;32mIn[32], line 30\u001b[0m, in \u001b[0;36mQBScraper.scrape_colleges\u001b[1;34m(self)\u001b[0m\n\u001b[0;32m     28\u001b[0m \u001b[38;5;28;01mfor\u001b[39;00m link \u001b[38;5;129;01min\u001b[39;00m links:\n\u001b[0;32m     29\u001b[0m     \u001b[38;5;28mself\u001b[39m\u001b[38;5;241m.\u001b[39mdriver\u001b[38;5;241m.\u001b[39mget(link)\n\u001b[1;32m---> 30\u001b[0m     \u001b[38;5;28;43mself\u001b[39;49m\u001b[38;5;241;43m.\u001b[39;49m\u001b[43mdriver\u001b[49m\u001b[38;5;241;43m.\u001b[39;49m\u001b[43mback\u001b[49m\u001b[43m(\u001b[49m\u001b[43m)\u001b[49m\n",
      "File \u001b[1;32mc:\\Users\\Andrew\\.conda\\envs\\datascience\\lib\\site-packages\\selenium\\webdriver\\remote\\webdriver.py:547\u001b[0m, in \u001b[0;36mWebDriver.back\u001b[1;34m(self)\u001b[0m\n\u001b[0;32m    539\u001b[0m \u001b[38;5;28;01mdef\u001b[39;00m \u001b[38;5;21mback\u001b[39m(\u001b[38;5;28mself\u001b[39m) \u001b[38;5;241m-\u001b[39m\u001b[38;5;241m>\u001b[39m \u001b[38;5;28;01mNone\u001b[39;00m:\n\u001b[0;32m    540\u001b[0m     \u001b[38;5;124;03m\"\"\"Goes one step backward in the browser history.\u001b[39;00m\n\u001b[0;32m    541\u001b[0m \n\u001b[0;32m    542\u001b[0m \u001b[38;5;124;03m    :Usage:\u001b[39;00m\n\u001b[1;32m   (...)\u001b[0m\n\u001b[0;32m    545\u001b[0m \u001b[38;5;124;03m            driver.back()\u001b[39;00m\n\u001b[0;32m    546\u001b[0m \u001b[38;5;124;03m    \"\"\"\u001b[39;00m\n\u001b[1;32m--> 547\u001b[0m     \u001b[38;5;28;43mself\u001b[39;49m\u001b[38;5;241;43m.\u001b[39;49m\u001b[43mexecute\u001b[49m\u001b[43m(\u001b[49m\u001b[43mCommand\u001b[49m\u001b[38;5;241;43m.\u001b[39;49m\u001b[43mGO_BACK\u001b[49m\u001b[43m)\u001b[49m\n",
      "File \u001b[1;32mc:\\Users\\Andrew\\.conda\\envs\\datascience\\lib\\site-packages\\selenium\\webdriver\\remote\\webdriver.py:344\u001b[0m, in \u001b[0;36mWebDriver.execute\u001b[1;34m(self, driver_command, params)\u001b[0m\n\u001b[0;32m    342\u001b[0m response \u001b[38;5;241m=\u001b[39m \u001b[38;5;28mself\u001b[39m\u001b[38;5;241m.\u001b[39mcommand_executor\u001b[38;5;241m.\u001b[39mexecute(driver_command, params)\n\u001b[0;32m    343\u001b[0m \u001b[38;5;28;01mif\u001b[39;00m response:\n\u001b[1;32m--> 344\u001b[0m     \u001b[38;5;28;43mself\u001b[39;49m\u001b[38;5;241;43m.\u001b[39;49m\u001b[43merror_handler\u001b[49m\u001b[38;5;241;43m.\u001b[39;49m\u001b[43mcheck_response\u001b[49m\u001b[43m(\u001b[49m\u001b[43mresponse\u001b[49m\u001b[43m)\u001b[49m\n\u001b[0;32m    345\u001b[0m     response[\u001b[38;5;124m\"\u001b[39m\u001b[38;5;124mvalue\u001b[39m\u001b[38;5;124m\"\u001b[39m] \u001b[38;5;241m=\u001b[39m \u001b[38;5;28mself\u001b[39m\u001b[38;5;241m.\u001b[39m_unwrap_value(response\u001b[38;5;241m.\u001b[39mget(\u001b[38;5;124m\"\u001b[39m\u001b[38;5;124mvalue\u001b[39m\u001b[38;5;124m\"\u001b[39m, \u001b[38;5;28;01mNone\u001b[39;00m))\n\u001b[0;32m    346\u001b[0m     \u001b[38;5;28;01mreturn\u001b[39;00m response\n",
      "File \u001b[1;32mc:\\Users\\Andrew\\.conda\\envs\\datascience\\lib\\site-packages\\selenium\\webdriver\\remote\\errorhandler.py:229\u001b[0m, in \u001b[0;36mErrorHandler.check_response\u001b[1;34m(self, response)\u001b[0m\n\u001b[0;32m    227\u001b[0m         alert_text \u001b[38;5;241m=\u001b[39m value[\u001b[38;5;124m\"\u001b[39m\u001b[38;5;124malert\u001b[39m\u001b[38;5;124m\"\u001b[39m]\u001b[38;5;241m.\u001b[39mget(\u001b[38;5;124m\"\u001b[39m\u001b[38;5;124mtext\u001b[39m\u001b[38;5;124m\"\u001b[39m)\n\u001b[0;32m    228\u001b[0m     \u001b[38;5;28;01mraise\u001b[39;00m exception_class(message, screen, stacktrace, alert_text)  \u001b[38;5;66;03m# type: ignore[call-arg]  # mypy is not smart enough here\u001b[39;00m\n\u001b[1;32m--> 229\u001b[0m \u001b[38;5;28;01mraise\u001b[39;00m exception_class(message, screen, stacktrace)\n",
      "\u001b[1;31mNoSuchWindowException\u001b[0m: Message: no such window: target window already closed\nfrom unknown error: web view not found\n  (Session info: chrome=120.0.6099.225)\nStacktrace:\n\tGetHandleVerifier [0x00007FF754902142+3514994]\n\t(No symbol) [0x00007FF754520CE2]\n\t(No symbol) [0x00007FF7543C76AA]\n\t(No symbol) [0x00007FF7543A0AFD]\n\t(No symbol) [0x00007FF75443CB1B]\n\t(No symbol) [0x00007FF75445218F]\n\t(No symbol) [0x00007FF754435D93]\n\t(No symbol) [0x00007FF754404BDC]\n\t(No symbol) [0x00007FF754405C64]\n\tGetHandleVerifier [0x00007FF75492E16B+3695259]\n\tGetHandleVerifier [0x00007FF754986737+4057191]\n\tGetHandleVerifier [0x00007FF75497E4E3+4023827]\n\tGetHandleVerifier [0x00007FF7546504F9+689705]\n\t(No symbol) [0x00007FF75452C048]\n\t(No symbol) [0x00007FF754528044]\n\t(No symbol) [0x00007FF7545281C9]\n\t(No symbol) [0x00007FF7545188C4]\n\tBaseThreadInitThunk [0x00007FF955A0257D+29]\n\tRtlUserThreadStart [0x00007FF95684AA58+40]\n"
     ]
    }
   ],
   "source": [
    "scraper = QBScraper('https://www.questbridge.org/college-partners')\n",
    "scraper.create_driver()\n",
    "scraper.scrape_colleges()"
   ]
  }
 ],
 "metadata": {
  "kernelspec": {
   "display_name": "datascience",
   "language": "python",
   "name": "python3"
  },
  "language_info": {
   "codemirror_mode": {
    "name": "ipython",
    "version": 3
   },
   "file_extension": ".py",
   "mimetype": "text/x-python",
   "name": "python",
   "nbconvert_exporter": "python",
   "pygments_lexer": "ipython3",
   "version": "3.10.9"
  }
 },
 "nbformat": 4,
 "nbformat_minor": 2
}
